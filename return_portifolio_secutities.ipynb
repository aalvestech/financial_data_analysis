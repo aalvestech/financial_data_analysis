{
 "cells": [
  {
   "cell_type": "code",
   "execution_count": 29,
   "metadata": {},
   "outputs": [],
   "source": [
    "import numpy as np\n",
    "import pandas as pd\n",
    "from pandas_datareader import data as wb\n",
    "import matplotlib.pyplot as plt"
   ]
  },
  {
   "cell_type": "markdown",
   "metadata": {},
   "source": [
    "# Carregando os dados das ações (Via, Magalu e B2W)"
   ]
  },
  {
   "cell_type": "code",
   "execution_count": 8,
   "metadata": {},
   "outputs": [],
   "source": [
    "tag_list = ['VIIA3.SA', 'MGLU3.SA', 'AMER3.SA']\n",
    "df_tag = pd.DataFrame()"
   ]
  },
  {
   "cell_type": "code",
   "execution_count": 10,
   "metadata": {},
   "outputs": [],
   "source": [
    "for tag in tag_list:\n",
    "    df_tag[tag] = wb.DataReader(tag, data_source='yahoo', start='2017-01-01')['Adj Close']"
   ]
  },
  {
   "cell_type": "code",
   "execution_count": 14,
   "metadata": {},
   "outputs": [
    {
     "data": {
      "text/html": [
       "<div>\n",
       "<style scoped>\n",
       "    .dataframe tbody tr th:only-of-type {\n",
       "        vertical-align: middle;\n",
       "    }\n",
       "\n",
       "    .dataframe tbody tr th {\n",
       "        vertical-align: top;\n",
       "    }\n",
       "\n",
       "    .dataframe thead th {\n",
       "        text-align: right;\n",
       "    }\n",
       "</style>\n",
       "<table border=\"1\" class=\"dataframe\">\n",
       "  <thead>\n",
       "    <tr style=\"text-align: right;\">\n",
       "      <th></th>\n",
       "      <th>VIIA3.SA</th>\n",
       "      <th>MGLU3.SA</th>\n",
       "      <th>AMER3.SA</th>\n",
       "    </tr>\n",
       "    <tr>\n",
       "      <th>Date</th>\n",
       "      <th></th>\n",
       "      <th></th>\n",
       "      <th></th>\n",
       "    </tr>\n",
       "  </thead>\n",
       "  <tbody>\n",
       "    <tr>\n",
       "      <th>2017-01-02</th>\n",
       "      <td>3.781286</td>\n",
       "      <td>0.379203</td>\n",
       "      <td>9.652307</td>\n",
       "    </tr>\n",
       "    <tr>\n",
       "      <th>2017-01-03</th>\n",
       "      <td>3.701680</td>\n",
       "      <td>0.378047</td>\n",
       "      <td>9.898346</td>\n",
       "    </tr>\n",
       "    <tr>\n",
       "      <th>2017-01-04</th>\n",
       "      <td>3.771335</td>\n",
       "      <td>0.357915</td>\n",
       "      <td>10.125460</td>\n",
       "    </tr>\n",
       "    <tr>\n",
       "      <th>2017-01-05</th>\n",
       "      <td>3.781286</td>\n",
       "      <td>0.370218</td>\n",
       "      <td>10.428276</td>\n",
       "    </tr>\n",
       "    <tr>\n",
       "      <th>2017-01-06</th>\n",
       "      <td>3.741483</td>\n",
       "      <td>0.367832</td>\n",
       "      <td>10.106532</td>\n",
       "    </tr>\n",
       "  </tbody>\n",
       "</table>\n",
       "</div>"
      ],
      "text/plain": [
       "            VIIA3.SA  MGLU3.SA   AMER3.SA\n",
       "Date                                     \n",
       "2017-01-02  3.781286  0.379203   9.652307\n",
       "2017-01-03  3.701680  0.378047   9.898346\n",
       "2017-01-04  3.771335  0.357915  10.125460\n",
       "2017-01-05  3.781286  0.370218  10.428276\n",
       "2017-01-06  3.741483  0.367832  10.106532"
      ]
     },
     "execution_count": 14,
     "metadata": {},
     "output_type": "execute_result"
    }
   ],
   "source": [
    "df_tag.head()"
   ]
  },
  {
   "cell_type": "code",
   "execution_count": 16,
   "metadata": {},
   "outputs": [
    {
     "name": "stdout",
     "output_type": "stream",
     "text": [
      "<class 'pandas.core.frame.DataFrame'>\n",
      "DatetimeIndex: 1399 entries, 2017-01-02 to 2022-08-15\n",
      "Data columns (total 3 columns):\n",
      " #   Column    Non-Null Count  Dtype  \n",
      "---  ------    --------------  -----  \n",
      " 0   VIIA3.SA  1399 non-null   float64\n",
      " 1   MGLU3.SA  1399 non-null   float64\n",
      " 2   AMER3.SA  1399 non-null   float64\n",
      "dtypes: float64(3)\n",
      "memory usage: 43.7 KB\n"
     ]
    }
   ],
   "source": [
    "df_tag.info()"
   ]
  },
  {
   "cell_type": "code",
   "execution_count": 17,
   "metadata": {},
   "outputs": [
    {
     "data": {
      "text/html": [
       "<div>\n",
       "<style scoped>\n",
       "    .dataframe tbody tr th:only-of-type {\n",
       "        vertical-align: middle;\n",
       "    }\n",
       "\n",
       "    .dataframe tbody tr th {\n",
       "        vertical-align: top;\n",
       "    }\n",
       "\n",
       "    .dataframe thead th {\n",
       "        text-align: right;\n",
       "    }\n",
       "</style>\n",
       "<table border=\"1\" class=\"dataframe\">\n",
       "  <thead>\n",
       "    <tr style=\"text-align: right;\">\n",
       "      <th></th>\n",
       "      <th>VIIA3.SA</th>\n",
       "      <th>MGLU3.SA</th>\n",
       "      <th>AMER3.SA</th>\n",
       "    </tr>\n",
       "  </thead>\n",
       "  <tbody>\n",
       "    <tr>\n",
       "      <th>count</th>\n",
       "      <td>1399.000000</td>\n",
       "      <td>1399.000000</td>\n",
       "      <td>1399.000000</td>\n",
       "    </tr>\n",
       "    <tr>\n",
       "      <th>mean</th>\n",
       "      <td>8.213423</td>\n",
       "      <td>9.185492</td>\n",
       "      <td>42.074531</td>\n",
       "    </tr>\n",
       "    <tr>\n",
       "      <th>std</th>\n",
       "      <td>4.658778</td>\n",
       "      <td>7.786772</td>\n",
       "      <td>26.384650</td>\n",
       "    </tr>\n",
       "    <tr>\n",
       "      <th>min</th>\n",
       "      <td>1.830000</td>\n",
       "      <td>0.351092</td>\n",
       "      <td>9.652307</td>\n",
       "    </tr>\n",
       "    <tr>\n",
       "      <th>25%</th>\n",
       "      <td>4.580000</td>\n",
       "      <td>2.911710</td>\n",
       "      <td>22.998065</td>\n",
       "    </tr>\n",
       "    <tr>\n",
       "      <th>50%</th>\n",
       "      <td>7.114789</td>\n",
       "      <td>5.913709</td>\n",
       "      <td>33.428829</td>\n",
       "    </tr>\n",
       "    <tr>\n",
       "      <th>75%</th>\n",
       "      <td>11.405000</td>\n",
       "      <td>14.113764</td>\n",
       "      <td>59.790623</td>\n",
       "    </tr>\n",
       "    <tr>\n",
       "      <th>max</th>\n",
       "      <td>21.290001</td>\n",
       "      <td>27.401571</td>\n",
       "      <td>123.519012</td>\n",
       "    </tr>\n",
       "  </tbody>\n",
       "</table>\n",
       "</div>"
      ],
      "text/plain": [
       "          VIIA3.SA     MGLU3.SA     AMER3.SA\n",
       "count  1399.000000  1399.000000  1399.000000\n",
       "mean      8.213423     9.185492    42.074531\n",
       "std       4.658778     7.786772    26.384650\n",
       "min       1.830000     0.351092     9.652307\n",
       "25%       4.580000     2.911710    22.998065\n",
       "50%       7.114789     5.913709    33.428829\n",
       "75%      11.405000    14.113764    59.790623\n",
       "max      21.290001    27.401571   123.519012"
      ]
     },
     "execution_count": 17,
     "metadata": {},
     "output_type": "execute_result"
    }
   ],
   "source": [
    "df_tag.describe()"
   ]
  },
  {
   "cell_type": "markdown",
   "metadata": {},
   "source": [
    "# Criando o dataframe (df_tag_norm) com os preços ajustados *100"
   ]
  },
  {
   "cell_type": "code",
   "execution_count": 24,
   "metadata": {},
   "outputs": [],
   "source": [
    "df_tag_norm = (df_tag / df_tag.iloc[0] * 100)"
   ]
  },
  {
   "cell_type": "code",
   "execution_count": 26,
   "metadata": {},
   "outputs": [
    {
     "data": {
      "text/html": [
       "<div>\n",
       "<style scoped>\n",
       "    .dataframe tbody tr th:only-of-type {\n",
       "        vertical-align: middle;\n",
       "    }\n",
       "\n",
       "    .dataframe tbody tr th {\n",
       "        vertical-align: top;\n",
       "    }\n",
       "\n",
       "    .dataframe thead th {\n",
       "        text-align: right;\n",
       "    }\n",
       "</style>\n",
       "<table border=\"1\" class=\"dataframe\">\n",
       "  <thead>\n",
       "    <tr style=\"text-align: right;\">\n",
       "      <th></th>\n",
       "      <th>VIIA3.SA</th>\n",
       "      <th>MGLU3.SA</th>\n",
       "      <th>AMER3.SA</th>\n",
       "    </tr>\n",
       "    <tr>\n",
       "      <th>Date</th>\n",
       "      <th></th>\n",
       "      <th></th>\n",
       "      <th></th>\n",
       "    </tr>\n",
       "  </thead>\n",
       "  <tbody>\n",
       "    <tr>\n",
       "      <th>2017-01-02</th>\n",
       "      <td>100.000000</td>\n",
       "      <td>100.000000</td>\n",
       "      <td>100.000000</td>\n",
       "    </tr>\n",
       "    <tr>\n",
       "      <th>2017-01-03</th>\n",
       "      <td>97.894742</td>\n",
       "      <td>99.695181</td>\n",
       "      <td>102.549022</td>\n",
       "    </tr>\n",
       "    <tr>\n",
       "      <th>2017-01-04</th>\n",
       "      <td>99.736845</td>\n",
       "      <td>94.386150</td>\n",
       "      <td>104.901969</td>\n",
       "    </tr>\n",
       "    <tr>\n",
       "      <th>2017-01-05</th>\n",
       "      <td>100.000000</td>\n",
       "      <td>97.630530</td>\n",
       "      <td>108.039213</td>\n",
       "    </tr>\n",
       "    <tr>\n",
       "      <th>2017-01-06</th>\n",
       "      <td>98.947374</td>\n",
       "      <td>97.001291</td>\n",
       "      <td>104.705876</td>\n",
       "    </tr>\n",
       "    <tr>\n",
       "      <th>...</th>\n",
       "      <td>...</td>\n",
       "      <td>...</td>\n",
       "      <td>...</td>\n",
       "    </tr>\n",
       "    <tr>\n",
       "      <th>2022-08-09</th>\n",
       "      <td>73.784425</td>\n",
       "      <td>812.229795</td>\n",
       "      <td>141.106168</td>\n",
       "    </tr>\n",
       "    <tr>\n",
       "      <th>2022-08-10</th>\n",
       "      <td>78.280252</td>\n",
       "      <td>867.609110</td>\n",
       "      <td>151.880794</td>\n",
       "    </tr>\n",
       "    <tr>\n",
       "      <th>2022-08-11</th>\n",
       "      <td>73.784425</td>\n",
       "      <td>801.681366</td>\n",
       "      <td>137.583692</td>\n",
       "    </tr>\n",
       "    <tr>\n",
       "      <th>2022-08-12</th>\n",
       "      <td>84.098380</td>\n",
       "      <td>944.085284</td>\n",
       "      <td>134.268426</td>\n",
       "    </tr>\n",
       "    <tr>\n",
       "      <th>2022-08-15</th>\n",
       "      <td>96.263555</td>\n",
       "      <td>1065.392345</td>\n",
       "      <td>158.822141</td>\n",
       "    </tr>\n",
       "  </tbody>\n",
       "</table>\n",
       "<p>1399 rows × 3 columns</p>\n",
       "</div>"
      ],
      "text/plain": [
       "              VIIA3.SA     MGLU3.SA    AMER3.SA\n",
       "Date                                           \n",
       "2017-01-02  100.000000   100.000000  100.000000\n",
       "2017-01-03   97.894742    99.695181  102.549022\n",
       "2017-01-04   99.736845    94.386150  104.901969\n",
       "2017-01-05  100.000000    97.630530  108.039213\n",
       "2017-01-06   98.947374    97.001291  104.705876\n",
       "...                ...          ...         ...\n",
       "2022-08-09   73.784425   812.229795  141.106168\n",
       "2022-08-10   78.280252   867.609110  151.880794\n",
       "2022-08-11   73.784425   801.681366  137.583692\n",
       "2022-08-12   84.098380   944.085284  134.268426\n",
       "2022-08-15   96.263555  1065.392345  158.822141\n",
       "\n",
       "[1399 rows x 3 columns]"
      ]
     },
     "execution_count": 26,
     "metadata": {},
     "output_type": "execute_result"
    }
   ],
   "source": [
    "df_tag_norm"
   ]
  },
  {
   "cell_type": "code",
   "execution_count": 23,
   "metadata": {},
   "outputs": [
    {
     "data": {
      "image/png": "[encoded data removed]",
      "text/plain": [
       "<Figure size 2160x720 with 1 Axes>"
      ]
     },
     "metadata": {
      "needs_background": "light"
     },
     "output_type": "display_data"
    }
   ],
   "source": [
    "df_tag_norm.plot(figsize = (30, 10))\n",
    "plt.show()"
   ]
  },
  {
   "cell_type": "markdown",
   "metadata": {},
   "source": [
    "# Criando um dataframe (df_returns) com o calculo da taxa de retorno simples"
   ]
  },
  {
   "cell_type": "code",
   "execution_count": 27,
   "metadata": {},
   "outputs": [
    {
     "data": {
      "text/html": [
       "<div>\n",
       "<style scoped>\n",
       "    .dataframe tbody tr th:only-of-type {\n",
       "        vertical-align: middle;\n",
       "    }\n",
       "\n",
       "    .dataframe tbody tr th {\n",
       "        vertical-align: top;\n",
       "    }\n",
       "\n",
       "    .dataframe thead th {\n",
       "        text-align: right;\n",
       "    }\n",
       "</style>\n",
       "<table border=\"1\" class=\"dataframe\">\n",
       "  <thead>\n",
       "    <tr style=\"text-align: right;\">\n",
       "      <th></th>\n",
       "      <th>VIIA3.SA</th>\n",
       "      <th>MGLU3.SA</th>\n",
       "      <th>AMER3.SA</th>\n",
       "    </tr>\n",
       "    <tr>\n",
       "      <th>Date</th>\n",
       "      <th></th>\n",
       "      <th></th>\n",
       "      <th></th>\n",
       "    </tr>\n",
       "  </thead>\n",
       "  <tbody>\n",
       "    <tr>\n",
       "      <th>2017-01-02</th>\n",
       "      <td>NaN</td>\n",
       "      <td>NaN</td>\n",
       "      <td>NaN</td>\n",
       "    </tr>\n",
       "    <tr>\n",
       "      <th>2017-01-03</th>\n",
       "      <td>-0.021053</td>\n",
       "      <td>-0.003048</td>\n",
       "      <td>0.025490</td>\n",
       "    </tr>\n",
       "    <tr>\n",
       "      <th>2017-01-04</th>\n",
       "      <td>0.018817</td>\n",
       "      <td>-0.053253</td>\n",
       "      <td>0.022945</td>\n",
       "    </tr>\n",
       "    <tr>\n",
       "      <th>2017-01-05</th>\n",
       "      <td>0.002638</td>\n",
       "      <td>0.034373</td>\n",
       "      <td>0.029906</td>\n",
       "    </tr>\n",
       "    <tr>\n",
       "      <th>2017-01-06</th>\n",
       "      <td>-0.010526</td>\n",
       "      <td>-0.006445</td>\n",
       "      <td>-0.030853</td>\n",
       "    </tr>\n",
       "    <tr>\n",
       "      <th>...</th>\n",
       "      <td>...</td>\n",
       "      <td>...</td>\n",
       "      <td>...</td>\n",
       "    </tr>\n",
       "    <tr>\n",
       "      <th>2022-08-09</th>\n",
       "      <td>-0.044521</td>\n",
       "      <td>-0.058104</td>\n",
       "      <td>-0.043539</td>\n",
       "    </tr>\n",
       "    <tr>\n",
       "      <th>2022-08-10</th>\n",
       "      <td>0.060932</td>\n",
       "      <td>0.068182</td>\n",
       "      <td>0.076358</td>\n",
       "    </tr>\n",
       "    <tr>\n",
       "      <th>2022-08-11</th>\n",
       "      <td>-0.057432</td>\n",
       "      <td>-0.075988</td>\n",
       "      <td>-0.094134</td>\n",
       "    </tr>\n",
       "    <tr>\n",
       "      <th>2022-08-12</th>\n",
       "      <td>0.139785</td>\n",
       "      <td>0.177632</td>\n",
       "      <td>-0.024096</td>\n",
       "    </tr>\n",
       "    <tr>\n",
       "      <th>2022-08-15</th>\n",
       "      <td>0.144654</td>\n",
       "      <td>0.128492</td>\n",
       "      <td>0.182870</td>\n",
       "    </tr>\n",
       "  </tbody>\n",
       "</table>\n",
       "<p>1399 rows × 3 columns</p>\n",
       "</div>"
      ],
      "text/plain": [
       "            VIIA3.SA  MGLU3.SA  AMER3.SA\n",
       "Date                                    \n",
       "2017-01-02       NaN       NaN       NaN\n",
       "2017-01-03 -0.021053 -0.003048  0.025490\n",
       "2017-01-04  0.018817 -0.053253  0.022945\n",
       "2017-01-05  0.002638  0.034373  0.029906\n",
       "2017-01-06 -0.010526 -0.006445 -0.030853\n",
       "...              ...       ...       ...\n",
       "2022-08-09 -0.044521 -0.058104 -0.043539\n",
       "2022-08-10  0.060932  0.068182  0.076358\n",
       "2022-08-11 -0.057432 -0.075988 -0.094134\n",
       "2022-08-12  0.139785  0.177632 -0.024096\n",
       "2022-08-15  0.144654  0.128492  0.182870\n",
       "\n",
       "[1399 rows x 3 columns]"
      ]
     },
     "execution_count": 27,
     "metadata": {},
     "output_type": "execute_result"
    }
   ],
   "source": [
    "df_return = (df_tag / df_tag.shift(1)) - 1\n",
    "df_return"
   ]
  },
  {
   "cell_type": "code",
   "execution_count": 40,
   "metadata": {},
   "outputs": [],
   "source": [
    "working_days = 250\n",
    "weights = np.array([0.25, 0.25, 0.25])"
   ]
  },
  {
   "cell_type": "code",
   "execution_count": 41,
   "metadata": {},
   "outputs": [
    {
     "data": {
      "text/plain": [
       "VIIA3.SA    0.203721\n",
       "MGLU3.SA    0.612245\n",
       "AMER3.SA    0.267107\n",
       "dtype: float64"
      ]
     },
     "execution_count": 41,
     "metadata": {},
     "output_type": "execute_result"
    }
   ],
   "source": [
    "\n",
    "df_annual_return = df_return.mean() * working_days\n",
    "df_annual_return"
   ]
  },
  {
   "cell_type": "code",
   "execution_count": 42,
   "metadata": {},
   "outputs": [
    {
     "data": {
      "text/plain": [
       "0.27076839739764214"
      ]
     },
     "execution_count": 42,
     "metadata": {},
     "output_type": "execute_result"
    }
   ],
   "source": [
    "np.dot(df_annual_return, weights)"
   ]
  },
  {
   "cell_type": "code",
   "execution_count": 55,
   "metadata": {},
   "outputs": [
    {
     "name": "stdout",
     "output_type": "stream",
     "text": [
      " O produto do portifolio é de: 27.08%\n"
     ]
    }
   ],
   "source": [
    "product_portifolio = np.dot(df_annual_return, weights)\n",
    "print (' O produto do portifolio é de: {:.2%}'.format(product_portifolio))"
   ]
  },
  {
   "cell_type": "code",
   "execution_count": null,
   "metadata": {},
   "outputs": [],
   "source": []
  }
 ],
 "metadata": {
  "kernelspec": {
   "display_name": "Python 3.10.4 64-bit",
   "language": "python",
   "name": "python3"
  },
  "language_info": {
   "codemirror_mode": {
    "name": "ipython",
    "version": 3
   },
   "file_extension": ".py",
   "mimetype": "text/x-python",
   "name": "python",
   "nbconvert_exporter": "python",
   "pygments_lexer": "ipython3",
   "version": "3.10.4"
  },
  "orig_nbformat": 4,
  "vscode": {
   "interpreter": {
    "hash": "bbc3c3d932324566a9bf4b4a52ddf64063695fc3adbf25b3fda92572428493bb"
   }
  }
 },
 "nbformat": 4,
 "nbformat_minor": 2
}
